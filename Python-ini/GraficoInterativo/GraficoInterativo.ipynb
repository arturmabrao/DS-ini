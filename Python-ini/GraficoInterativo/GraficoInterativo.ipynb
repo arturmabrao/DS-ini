{
 "cells": [
  {
   "cell_type": "markdown",
   "id": "9a4a6465",
   "metadata": {},
   "source": [
    "### Grafico interativo"
   ]
  },
  {
   "cell_type": "code",
   "execution_count": null,
   "id": "1676376c",
   "metadata": {},
   "outputs": [],
   "source": [
    "# Imports\n",
    "import plotly.express as px\n",
    "import plotly.graph_objects as go\n",
    "import numpy as np\n",
    "from sklearn.svm import SVR\n",
    "\n",
    "dataset = px.data.iris()"
   ]
  },
  {
   "cell_type": "code",
   "execution_count": null,
   "id": "fd68affa",
   "metadata": {},
   "outputs": [],
   "source": [
    "# Demons Dados\n",
    "dataset.head()"
   ]
  },
  {
   "cell_type": "code",
   "execution_count": null,
   "id": "22a410af",
   "metadata": {},
   "outputs": [],
   "source": [
    "# Parametros\n",
    "mesh_size = .02\n",
    "margin = 0\n",
    "\n",
    "# Dataset\n",
    "df = px.data.iris()\n",
    "\n",
    "# Variaveis\n",
    "X = df[['sepal_width', 'sepal_length']]\n",
    "y = df['petal_width']\n",
    "\n",
    "\n",
    "# Cria modelo de ML\n",
    "modelo = SVR(C=1.)\n",
    "\n",
    "# Treina o modelo\n",
    "modelo.fit(X, y)\n",
    "\n",
    "# Mesh grid para mostrar o resultado do modelo\n",
    "x_min, x_max = X.sepal_width.min() - margin, X.sepal_width.max() + margin\n",
    "y_min, y_max = X.sepal_length.min() - margin, X.sepal_length.max() + margin\n",
    "xrange = np.arange(x_min, x_max, mesh_size)\n",
    "yrange = np.arange(y_min, y_max, mesh_size)\n",
    "xx, yy = np.meshgrid(xrange, yrange)\n",
    "\n",
    "# Previsoes com o modelo\n",
    "pred = modelo.predict(np.c_[xx.ravel(), yy.ravel()])\n",
    "pred = pred.reshape(xx.shape)\n",
    "\n",
    "# Gera o plot 3D\n",
    "fig = px.scatter_3d(df, x = 'sepal_width', y = 'sepal_length', z = 'petal_width')\n",
    "fig.update_traces(marker = dict(size=5))\n",
    "fig.add_traces(go.Surface(x = xrange, y = yrange, z = pred, name = 'pred_surface'))\n",
    "fig.show()"
   ]
  }
 ],
 "metadata": {
  "kernelspec": {
   "display_name": "Python 3 (ipykernel)",
   "language": "python",
   "name": "python3"
  },
  "language_info": {
   "codemirror_mode": {
    "name": "ipython",
    "version": 3
   },
   "file_extension": ".py",
   "mimetype": "text/x-python",
   "name": "python",
   "nbconvert_exporter": "python",
   "pygments_lexer": "ipython3",
   "version": "3.9.12"
  }
 },
 "nbformat": 4,
 "nbformat_minor": 5
}
